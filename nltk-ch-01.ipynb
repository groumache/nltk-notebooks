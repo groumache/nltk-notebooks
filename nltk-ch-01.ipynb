{
 "cells": [
  {
   "cell_type": "markdown",
   "metadata": {},
   "source": [
    "## Notes"
   ]
  },
  {
   "cell_type": "code",
   "execution_count": 1,
   "metadata": {},
   "outputs": [
    {
     "name": "stdout",
     "output_type": "stream",
     "text": [
      "*** Introductory Examples for the NLTK Book ***\n",
      "Loading text1, ..., text9 and sent1, ..., sent9\n",
      "Type the name of the text or sentence to view it.\n",
      "Type: 'texts()' or 'sents()' to list the materials.\n",
      "text1: Moby Dick by Herman Melville 1851\n",
      "text2: Sense and Sensibility by Jane Austen 1811\n",
      "text3: The Book of Genesis\n",
      "text4: Inaugural Address Corpus\n",
      "text5: Chat Corpus\n",
      "text6: Monty Python and the Holy Grail\n",
      "text7: Wall Street Journal\n",
      "text8: Personals Corpus\n",
      "text9: The Man Who Was Thursday by G . K . Chesterton 1908\n"
     ]
    }
   ],
   "source": [
    "from nltk.book import *"
   ]
  },
  {
   "cell_type": "code",
   "execution_count": 2,
   "metadata": {},
   "outputs": [
    {
     "name": "stdout",
     "output_type": "stream",
     "text": [
      "text1: Moby Dick by Herman Melville 1851\n",
      "text2: Sense and Sensibility by Jane Austen 1811\n",
      "text3: The Book of Genesis\n",
      "text4: Inaugural Address Corpus\n",
      "text5: Chat Corpus\n",
      "text6: Monty Python and the Holy Grail\n",
      "text7: Wall Street Journal\n",
      "text8: Personals Corpus\n",
      "text9: The Man Who Was Thursday by G . K . Chesterton 1908\n"
     ]
    }
   ],
   "source": [
    "all_texts = [text1, text2, text3, text4, text5, text6, text7, text8, text9]\n",
    "\n",
    "texts()"
   ]
  },
  {
   "cell_type": "code",
   "execution_count": 3,
   "metadata": {},
   "outputs": [
    {
     "name": "stdout",
     "output_type": "stream",
     "text": [
      "sent1: Call me Ishmael .\n",
      "sent2: The family of Dashwood had long been settled in Sussex .\n",
      "sent3: In the beginning God created the heaven and the earth .\n",
      "sent4: Fellow - Citizens of the Senate and of the House of Representatives :\n",
      "sent5: I have a problem with people PMing me to lol JOIN\n",
      "sent6: SCENE 1 : [ wind ] [ clop clop clop ] KING ARTHUR : Whoa there !\n",
      "sent7: Pierre Vinken , 61 years old , will join the board as a nonexecutive director Nov. 29 .\n",
      "sent8: 25 SEXY MALE , seeks attrac older single lady , for discreet encounters .\n",
      "sent9: THE suburb of Saffron Park lay on the sunset side of London , as red and ragged as a cloud of sunset .\n"
     ]
    }
   ],
   "source": [
    "all_sents = [sent1, sent2, sent3, sent4, sent5, sent6, sent7, sent8, sent9]\n",
    "\n",
    "sents()"
   ]
  },
  {
   "cell_type": "markdown",
   "metadata": {},
   "source": [
    "Note: Pick another pair of words and compare their usage in two different texts, using the similar() and common_contexts() functions."
   ]
  },
  {
   "cell_type": "code",
   "execution_count": 4,
   "metadata": {},
   "outputs": [
    {
     "name": "stdout",
     "output_type": "stream",
     "text": [
      "good well little long considerable happy large as soon much handsome\n",
      "quiet stout material rich beautiful unfortunate disappointed red and\n"
     ]
    }
   ],
   "source": [
    "text2.similar(\"pretty\")"
   ]
  },
  {
   "cell_type": "code",
   "execution_count": 5,
   "metadata": {},
   "outputs": [
    {
     "name": "stdout",
     "output_type": "stream",
     "text": [
      "was_much is_well was_smart is_right was_handsome had_much and_likely\n",
      "were_very\n"
     ]
    }
   ],
   "source": [
    "text2.common_contexts([\"very\", \"not\"])"
   ]
  },
  {
   "cell_type": "markdown",
   "metadata": {},
   "source": [
    "Note: How many times does the word lol appear in text5? How much is this as a percentage of the total number of words in this text?"
   ]
  },
  {
   "cell_type": "code",
   "execution_count": 6,
   "metadata": {},
   "outputs": [
    {
     "name": "stdout",
     "output_type": "stream",
     "text": [
      "number of times 'lol' appears in text5: 704\n"
     ]
    }
   ],
   "source": [
    "count_lol = text5.count(\"lol\")\n",
    "\n",
    "print(\"number of times 'lol' appears in text5:\", count_lol)"
   ]
  },
  {
   "cell_type": "code",
   "execution_count": 7,
   "metadata": {},
   "outputs": [
    {
     "name": "stdout",
     "output_type": "stream",
     "text": [
      "percentage of times the word 'lol' appears in text5: 1.5640968673628082 %\n"
     ]
    }
   ],
   "source": [
    "percentage_count_lol = count_lol / len(text5) * 100\n",
    "\n",
    "print(\"percentage of times the word 'lol' appears in text5:\", percentage_count_lol, \"%\")"
   ]
  },
  {
   "cell_type": "markdown",
   "metadata": {},
   "source": [
    "Length of every text"
   ]
  },
  {
   "cell_type": "code",
   "execution_count": 8,
   "metadata": {},
   "outputs": [
    {
     "name": "stdout",
     "output_type": "stream",
     "text": [
      "text | length\n",
      "1    | 260819\n",
      "2    | 141576\n",
      "3    | 44764\n",
      "4    | 149797\n",
      "5    | 45010\n",
      "6    | 16967\n",
      "7    | 100676\n",
      "8    | 4867\n",
      "9    | 69213\n"
     ]
    }
   ],
   "source": [
    "print(\"text | length\")\n",
    "for (i, t) in enumerate(all_texts):\n",
    "    print(i + 1, \"   |\", len(t))"
   ]
  },
  {
   "cell_type": "markdown",
   "metadata": {},
   "source": [
    "Percentage of times the number 'the' (or 'The') appears in each text"
   ]
  },
  {
   "cell_type": "code",
   "execution_count": 9,
   "metadata": {},
   "outputs": [
    {
     "name": "stdout",
     "output_type": "stream",
     "text": [
      "text1 , percentage = 5.495381854849532\n",
      "text2 , percentage = 2.8987964061705376\n",
      "text3 , percentage = 5.497721383254401\n",
      "text4 , percentage = 6.725768873875978\n",
      "text5 , percentage = 1.464119084647856\n",
      "text6 , percentage = 1.9508457594153354\n",
      "text7 , percentage = 4.730025030791847\n",
      "text8 , percentage = 0.28765153071707417\n",
      "text9 , percentage = 5.225896869085288\n"
     ]
    }
   ],
   "source": [
    "for (i, t) in enumerate(all_texts):\n",
    "    count_the = t.count(\"the\") + t.count(\"The\")\n",
    "    percentage_count_the = count_the / len(t) * 100\n",
    "    print(\"text\" + str(i + 1), \", percentage =\", percentage_count_the)"
   ]
  },
  {
   "cell_type": "code",
   "execution_count": 10,
   "metadata": {},
   "outputs": [
    {
     "name": "stdout",
     "output_type": "stream",
     "text": [
      "text1 , lexical diversity = 0.07406285585022564\n",
      "text2 , lexical diversity = 0.04826383002768831\n",
      "text3 , lexical diversity = 0.06230453042623537\n",
      "text4 , lexical diversity = 0.06617622515804722\n",
      "text5 , lexical diversity = 0.13477005109975562\n",
      "text6 , lexical diversity = 0.1276595744680851\n",
      "text7 , lexical diversity = 0.12324685128531129\n",
      "text8 , lexical diversity = 0.22765564002465585\n",
      "text9 , lexical diversity = 0.0983485761345412\n"
     ]
    }
   ],
   "source": [
    "def lexical_diversity(text):\n",
    "    return len(set(text)) / len(text)\n",
    "\n",
    "for (i, t) in enumerate(all_texts):\n",
    "    print(\"text\" + str(i + 1), \", lexical diversity =\", lexical_diversity(t))"
   ]
  },
  {
   "cell_type": "markdown",
   "metadata": {},
   "source": [
    "Note: Try the preceding frequency distribution example for yourself, for text2."
   ]
  },
  {
   "cell_type": "code",
   "execution_count": 11,
   "metadata": {},
   "outputs": [
    {
     "data": {
      "image/png": "[encoded data removed]",
      "text/plain": [
       "<Figure size 432x288 with 1 Axes>"
      ]
     },
     "metadata": {
      "needs_background": "light"
     },
     "output_type": "display_data"
    },
    {
     "data": {
      "image/png": "[encoded data removed]",
      "text/plain": [
       "<Figure size 432x288 with 1 Axes>"
      ]
     },
     "metadata": {
      "needs_background": "light"
     },
     "output_type": "display_data"
    },
    {
     "data": {
      "text/plain": [
       "<matplotlib.axes._subplots.AxesSubplot at 0x1a1a89e0898>"
      ]
     },
     "execution_count": 11,
     "metadata": {},
     "output_type": "execute_result"
    }
   ],
   "source": [
    "frequence_distr = FreqDist(text2)\n",
    "\n",
    "frequence_distr.plot(20, cumulative=False)\n",
    "frequence_distr.plot(20, cumulative=True)"
   ]
  },
  {
   "cell_type": "markdown",
   "metadata": {},
   "source": [
    "Note: Try out the previous statements in the Python interpreter, and experiment with changing the text and changing the length condition."
   ]
  },
  {
   "cell_type": "code",
   "execution_count": 12,
   "metadata": {},
   "outputs": [
    {
     "data": {
      "text/plain": [
       "['womenservants',\n",
       " 'plenteousness',\n",
       " 'uncircumcised',\n",
       " 'interpretations',\n",
       " 'Jegarsahadutha',\n",
       " 'righteousness',\n",
       " 'sheepshearers',\n",
       " 'threshingfloor',\n",
       " 'EleloheIsrael',\n",
       " 'Zaphnathpaaneah',\n",
       " 'interpretation']"
      ]
     },
     "execution_count": 12,
     "metadata": {},
     "output_type": "execute_result"
    }
   ],
   "source": [
    "[word for word in set(text3) if len(word) > 12]"
   ]
  },
  {
   "cell_type": "code",
   "execution_count": 13,
   "metadata": {},
   "outputs": [
    {
     "name": "stdout",
     "output_type": "stream",
     "text": [
      "most common word length = 3 , number of these words in text3 = 11599\n",
      "percentage of words with 3 letters in text3 = 25.911446698239658 %\n"
     ]
    }
   ],
   "source": [
    "fdist = FreqDist(len(word) for word in text3)\n",
    "most_common_length_count = fdist.most_common()[0]\n",
    "\n",
    "print(\"most common word length =\", most_common_length_count[0],\n",
    "      \", number of these words in text3 =\", most_common_length_count[1])\n",
    "print(\"percentage of words with 3 letters in text3 =\", fdist.freq(3) * 100, \"%\")"
   ]
  },
  {
   "cell_type": "markdown",
   "metadata": {},
   "source": [
    "Run the following examples and try to explain what is going on in each one."
   ]
  },
  {
   "cell_type": "code",
   "execution_count": 14,
   "metadata": {},
   "outputs": [
    {
     "data": {
      "text/plain": [
       "['Stock-index',\n",
       " 'index-arbitrage',\n",
       " 'index-fund',\n",
       " 'index-options',\n",
       " 'index-related',\n",
       " 'stock-index']"
      ]
     },
     "execution_count": 14,
     "metadata": {},
     "output_type": "execute_result"
    }
   ],
   "source": [
    "# select words from text7 that contain both '-' and 'index'\n",
    "\n",
    "sorted(w for w in set(text7) if '-' in w and 'index' in w)"
   ]
  },
  {
   "cell_type": "code",
   "execution_count": 15,
   "metadata": {},
   "outputs": [
    {
     "name": "stdout",
     "output_type": "stream",
     "text": [
      "['Abelmizraim', 'Allonbachuth', 'Beerlahairoi', 'Canaanitish', 'Chedorlaomer', 'Girgashites', 'Hazarmaveth', 'Hazezontamar', 'Ishmeelites', 'Jegarsahadutha', 'Jehovahjireh', 'Kirjatharba', 'Melchizedek', 'Mesopotamia', 'Peradventure', 'Philistines', 'Zaphnathpaaneah']\n"
     ]
    }
   ],
   "source": [
    "# select words from text3 that are titles and have more than 10 characters\n",
    "\n",
    "print(sorted(wd for wd in set(text3) if wd.istitle() and len(wd) > 10))"
   ]
  },
  {
   "cell_type": "code",
   "execution_count": 16,
   "metadata": {},
   "outputs": [
    {
     "data": {
      "text/plain": [
       "[',', '.', '29', '61', 'Nov.', 'Pierre', 'Vinken']"
      ]
     },
     "execution_count": 16,
     "metadata": {},
     "output_type": "execute_result"
    }
   ],
   "source": [
    "# select words from sent7 that are not in lower case\n",
    "\n",
    "sorted(w for w in set(sent7) if not w.islower())"
   ]
  },
  {
   "cell_type": "code",
   "execution_count": 17,
   "metadata": {},
   "outputs": [
    {
     "name": "stdout",
     "output_type": "stream",
     "text": [
      "['ancient', 'ceiling', 'conceit', 'conceited', 'conceive', 'conscience', 'conscientious', 'conscientiously', 'deceitful', 'deceive', 'deceived', 'deceiving', 'deficiencies', 'deficiency', 'deficient', 'delicacies', 'excellencies', 'fancied', 'insufficiency', 'insufficient', 'legacies', 'perceive', 'perceived', 'perceiving', 'prescience', 'prophecies', 'receipt', 'receive', 'received', 'receiving', 'society', 'species', 'sufficient', 'sufficiently', 'undeceive', 'undeceiving']\n"
     ]
    }
   ],
   "source": [
    "# select words from text2 that contain either 'cie' or 'cei'\n",
    "\n",
    "print(sorted(t for t in set(text2) if 'cie' in t or 'cei' in t))"
   ]
  },
  {
   "cell_type": "markdown",
   "metadata": {},
   "source": [
    "## Exercises"
   ]
  },
  {
   "cell_type": "markdown",
   "metadata": {},
   "source": [
    "17. Use `text9.index()` to find the index of the word sunset. You'll need to insert this word as an argument between the parentheses. By a process of trial and error, find the slice for the complete sentence that contains this word.\n",
    "\n",
    "18. Using list addition, and the set and sorted operations, compute the vocabulary of the sentences sent1 ... sent8.\n",
    "\n",
    "19. What is the difference between the following two lines? Which one will give a larger value? Will this be the case for other texts?\n",
    "```python\n",
    ">>> sorted(set(w.lower() for w in text1))\n",
    ">>> sorted(w.lower() for w in set(text1))\n",
    "```\n",
    "\n",
    "20. What is the difference between the following two tests: `w.isupper()` and `not w.islower()`?\n",
    "\n",
    "21. Write the slice expression that extracts the last two words of text2."
   ]
  },
  {
   "cell_type": "code",
   "execution_count": 18,
   "metadata": {},
   "outputs": [
    {
     "name": "stdout",
     "output_type": "stream",
     "text": [
      "['THE', 'suburb', 'of', 'Saffron', 'Park', 'lay', 'on', 'the', 'sunset', 'side', 'of', 'London', ',', 'as', 'red', 'and', 'ragged', 'as', 'a', 'cloud', 'of', 'sunset', '.']\n"
     ]
    }
   ],
   "source": [
    "# 17.\n",
    "index_sunset = text9.index(\"sunset\")\n",
    "\n",
    "start = index_sunset - 8\n",
    "stop  = index_sunset + 15\n",
    "\n",
    "print(text9[start:stop])"
   ]
  },
  {
   "cell_type": "code",
   "execution_count": 19,
   "metadata": {},
   "outputs": [
    {
     "name": "stdout",
     "output_type": "stream",
     "text": [
      "['!', ',', '-', '.', '1', '25', '29', '61', ':', 'ARTHUR', 'Call', 'Citizens', 'Dashwood', 'Fellow', 'God', 'House', 'I', 'In', 'Ishmael', 'JOIN', 'KING', 'London', 'MALE', 'Nov.', 'PMing', 'Park', 'Pierre', 'Representatives', 'SCENE', 'SEXY', 'Saffron', 'Senate', 'Sussex', 'THE', 'The', 'Vinken', 'Whoa', '[', ']', 'a', 'and', 'as', 'attrac', 'been', 'beginning', 'board', 'clop', 'cloud', 'created', 'director', 'discreet', 'earth', 'encounters', 'family', 'for', 'had', 'have', 'heaven', 'in', 'join', 'lady', 'lay', 'lol', 'long', 'me', 'nonexecutive', 'of', 'old', 'older', 'on', 'people', 'problem', 'ragged', 'red', 'seeks', 'settled', 'side', 'single', 'suburb', 'sunset', 'the', 'there', 'to', 'will', 'wind', 'with', 'years']\n"
     ]
    }
   ],
   "source": [
    "# 18.\n",
    "print(sorted(set([word for sent in all_sents for word in sent])))"
   ]
  },
  {
   "cell_type": "code",
   "execution_count": 20,
   "metadata": {},
   "outputs": [
    {
     "name": "stdout",
     "output_type": "stream",
     "text": [
      "length ligne1 = 17231 , length ligne2 = 19317\n",
      "length dupplicates = 2086\n",
      "len(line2) - len(dupplicates) == len(line1) -> True\n"
     ]
    }
   ],
   "source": [
    "# 19.\n",
    "\n",
    "# write every word in lowercase before creating the set (eliminates duplicates)\n",
    "line1 = sorted(set(w.lower() for w in text1))\n",
    "# create the set then put them in lowercase (creates duplicates for words written in both lower and uppercase)\n",
    "line2 = sorted(w.lower() for w in set(text1))\n",
    "\n",
    "print(\"length ligne1 =\", len(line1), \", length ligne2 =\", len(line2))\n",
    "dupplicates = [word for (i, word) in enumerate(line2) if (i < len(line2) - 1) and (word == line2[i+1])]\n",
    "print(\"length dupplicates =\", len(dupplicates))\n",
    "print(\"len(line2) - len(dupplicates) == len(line1) ->\", len(line2) - len(dupplicates) == len(line1))"
   ]
  },
  {
   "cell_type": "code",
   "execution_count": 21,
   "metadata": {},
   "outputs": [
    {
     "name": "stdout",
     "output_type": "stream",
     "text": [
      "False True False\n",
      "False False True\n"
     ]
    }
   ],
   "source": [
    "# 20.\n",
    "print(\"Hello\".isupper(), \"HELLO\".isupper(), \"hello\".isupper())\n",
    "print(\"Hello\".islower(), \"HELLO\".islower(), \"hello\".islower())"
   ]
  },
  {
   "cell_type": "code",
   "execution_count": 22,
   "metadata": {},
   "outputs": [
    {
     "data": {
      "text/plain": [
       "['THE', 'END']"
      ]
     },
     "execution_count": 22,
     "metadata": {},
     "output_type": "execute_result"
    }
   ],
   "source": [
    "# 21.\n",
    "text2[-2:]"
   ]
  },
  {
   "cell_type": "markdown",
   "metadata": {},
   "source": [
    "22. Find all the four-letter words in the Chat Corpus (text5). With the help of a frequency distribution (`FreqDist`), show these words in decreasing order of frequency.\n",
    "23. Use a combination of for and if statements to loop over the words of the movie script for Monty Python and the Holy Grail (text6) and print all the uppercase words, one per line.\n",
    "24. Write expressions for finding all words in text6 that meet the conditions listed below. The result should be in the form of a list of words: ['word1', 'word2', ...].\n",
    "\n",
    "    a. Ending in ise\n",
    "\n",
    "    b. Containing the letter z\n",
    "\n",
    "    c. Containing the sequence of letters pt\n",
    "\n",
    "    d. Having all lowercase letters except for an initial capital (i.e., titlecase)"
   ]
  },
  {
   "cell_type": "code",
   "execution_count": 23,
   "metadata": {},
   "outputs": [
    {
     "data": {
      "text/plain": [
       "[('Were', 1),\n",
       " ('hurr', 1),\n",
       " ('brwn', 1),\n",
       " ('lisa', 1),\n",
       " (\"<3's\", 1),\n",
       " ('Heys', 1),\n",
       " ('tiff', 1),\n",
       " ('ussy', 1),\n",
       " ('woah', 1),\n",
       " ('gals', 1)]"
      ]
     },
     "execution_count": 23,
     "metadata": {},
     "output_type": "execute_result"
    }
   ],
   "source": [
    "# 22.\n",
    "four_letters_words = [w for w in text5 if len(w) == 4]\n",
    "four_letters_words_decreasing_freq = list(reversed(FreqDist(four_letters_words).most_common()))\n",
    "\n",
    "four_letters_words_decreasing_freq[:10]"
   ]
  },
  {
   "cell_type": "code",
   "execution_count": 32,
   "metadata": {},
   "outputs": [
    {
     "data": {
      "text/plain": [
       "['SCENE',\n",
       " 'KING',\n",
       " 'ARTHUR',\n",
       " 'SOLDIER',\n",
       " 'ARTHUR',\n",
       " 'I',\n",
       " 'SOLDIER',\n",
       " 'ARTHUR',\n",
       " 'I',\n",
       " 'I']"
      ]
     },
     "execution_count": 32,
     "metadata": {},
     "output_type": "execute_result"
    }
   ],
   "source": [
    "# 23.\n",
    "\n",
    "uppercase_words = [w for w in text6 if w.isupper()]\n",
    "\n",
    "uppercase_words[:10]"
   ]
  },
  {
   "cell_type": "code",
   "execution_count": 25,
   "metadata": {},
   "outputs": [
    {
     "data": {
      "text/plain": [
       "[]"
      ]
     },
     "execution_count": 25,
     "metadata": {},
     "output_type": "execute_result"
    }
   ],
   "source": [
    "# 24.\n",
    "[ w for w in text6\n",
    "    if w[-3:] == 'ise'\n",
    "    and 'z' in w\n",
    "    and 'pt' in w\n",
    "    and (w[0].isupper() and w[1:].islower())]"
   ]
  },
  {
   "cell_type": "markdown",
   "metadata": {},
   "source": [
    "25.  Define sent to be the list of words `['she', 'sells', 'sea', 'shells', 'by', 'the', 'sea', 'shore']`. Now write code to perform the following tasks:\n",
    "\n",
    "    a. Print all words beginning with sh\n",
    "\n",
    "    b. Print all words longer than four characters\n",
    "\n",
    "26. What does the following Python code do? `sum(len(w) for w in text1)` Can you use it to work out the average word length of a text?\n",
    "\n",
    "27. Define a function called `vocab_size(text)` that has a single parameter for the text, and which returns the vocabulary size of the text."
   ]
  },
  {
   "cell_type": "code",
   "execution_count": 26,
   "metadata": {},
   "outputs": [
    {
     "data": {
      "text/plain": [
       "(['she', 'shells', 'shore'], ['sells', 'shells', 'shore'])"
      ]
     },
     "execution_count": 26,
     "metadata": {},
     "output_type": "execute_result"
    }
   ],
   "source": [
    "# 25.\n",
    "words_list = ['she', 'sells', 'sea', 'shells', 'by', 'the', 'sea', 'shore']\n",
    "\n",
    "words_beginning_with_sh = [w for w in words_list if w[:2] == 'sh']\n",
    "words_longer_than_4 = [w for w in words_list if len(w) > 4]\n",
    "\n",
    "words_beginning_with_sh, words_longer_than_4"
   ]
  },
  {
   "cell_type": "code",
   "execution_count": 27,
   "metadata": {},
   "outputs": [
    {
     "data": {
      "text/plain": [
       "(999044, 3.830411128023649)"
      ]
     },
     "execution_count": 27,
     "metadata": {},
     "output_type": "execute_result"
    }
   ],
   "source": [
    "# 26.\n",
    "\n",
    "# this line of code outputs the total number of characters in text1\n",
    "total_nb_char = sum(len(w) for w in text1)\n",
    "average_word_length = total_nb_char / len(text1)\n",
    "\n",
    "total_nb_char, average_word_length"
   ]
  },
  {
   "cell_type": "code",
   "execution_count": 28,
   "metadata": {},
   "outputs": [
    {
     "data": {
      "text/plain": [
       "(19317, 260819)"
      ]
     },
     "execution_count": 28,
     "metadata": {},
     "output_type": "execute_result"
    }
   ],
   "source": [
    "# 27.\n",
    "\n",
    "# note: vocabulary size = size of the vocabulary (words != from each other)\n",
    "def vocab_size(text) -> int:\n",
    "    return len(set(text))\n",
    "\n",
    "vocab_size(text1), len(text1)"
   ]
  },
  {
   "cell_type": "markdown",
   "metadata": {},
   "source": [
    "28. Define a function `percent(word, text)` that calculates how often a given word occurs in a text, and expresses the result as a percentage.\n",
    "\n",
    "29. We have been using sets to store vocabularies. Try the following Python expression: `set(sent3) < set(text1)`. Experiment with this using different arguments to `set()`. What does it do? Can you think of a practical application for this?"
   ]
  },
  {
   "cell_type": "code",
   "execution_count": 29,
   "metadata": {},
   "outputs": [
    {
     "data": {
      "text/plain": [
       "5.260736372733581"
      ]
     },
     "execution_count": 29,
     "metadata": {},
     "output_type": "execute_result"
    }
   ],
   "source": [
    "# 28.\n",
    "\n",
    "def percent(word: str, text) -> int:\n",
    "    return FreqDist(text)[word] / len(text) * 100\n",
    "\n",
    "percent(\"the\", text1)"
   ]
  },
  {
   "cell_type": "code",
   "execution_count": 30,
   "metadata": {},
   "outputs": [
    {
     "name": "stdout",
     "output_type": "stream",
     "text": [
      "True\n",
      "True\n"
     ]
    }
   ],
   "source": [
    "# 29.\n",
    "\n",
    "# 2 sets are == iff they contain the same elements\n",
    "# 1 set is < than another iff its elements are contained in the 2nd set and the 2nd set also has other elements\n",
    "print(set(sent3) < set(text1))\n",
    "\n",
    "print(set([\"hey\", \"ho\"]) == set([\"ho\", \"hey\"]))"
   ]
  }
 ],
 "metadata": {
  "kernelspec": {
   "display_name": "Python 3",
   "language": "python",
   "name": "python3"
  },
  "language_info": {
   "codemirror_mode": {
    "name": "ipython",
    "version": 3
   },
   "file_extension": ".py",
   "mimetype": "text/x-python",
   "name": "python",
   "nbconvert_exporter": "python",
   "pygments_lexer": "ipython3",
   "version": "3.7.3"
  }
 },
 "nbformat": 4,
 "nbformat_minor": 4
}
