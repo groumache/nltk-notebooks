{
 "cells": [
  {
   "cell_type": "markdown",
   "metadata": {},
   "source": [
    "## Notes"
   ]
  },
  {
   "cell_type": "code",
   "execution_count": 1,
   "metadata": {},
   "outputs": [],
   "source": [
    "import nltk\n",
    "from nltk.corpus import gutenberg\n",
    "from nltk.corpus import brown\n",
    "from nltk.corpus import inaugural\n",
    "from nltk.corpus import wordnet as wn"
   ]
  },
  {
   "cell_type": "code",
   "execution_count": 2,
   "metadata": {},
   "outputs": [
    {
     "data": {
      "text/plain": [
       "['austen-emma.txt',\n",
       " 'austen-persuasion.txt',\n",
       " 'austen-sense.txt',\n",
       " 'bible-kjv.txt',\n",
       " 'blake-poems.txt',\n",
       " 'bryant-stories.txt',\n",
       " 'burgess-busterbrown.txt',\n",
       " 'carroll-alice.txt',\n",
       " 'chesterton-ball.txt',\n",
       " 'chesterton-brown.txt',\n",
       " 'chesterton-thursday.txt',\n",
       " 'edgeworth-parents.txt',\n",
       " 'melville-moby_dick.txt',\n",
       " 'milton-paradise.txt',\n",
       " 'shakespeare-caesar.txt',\n",
       " 'shakespeare-hamlet.txt',\n",
       " 'shakespeare-macbeth.txt',\n",
       " 'whitman-leaves.txt']"
      ]
     },
     "execution_count": 2,
     "metadata": {},
     "output_type": "execute_result"
    }
   ],
   "source": [
    "gutenberg.fileids()"
   ]
  },
  {
   "cell_type": "code",
   "execution_count": 7,
   "metadata": {},
   "outputs": [
    {
     "name": "stdout",
     "output_type": "stream",
     "text": [
      "5 25 26 austen-emma.txt\n",
      "5 26 17 austen-persuasion.txt\n",
      "5 28 22 austen-sense.txt\n",
      "4 34 79 bible-kjv.txt\n",
      "5 19 5 blake-poems.txt\n",
      "4 19 14 bryant-stories.txt\n",
      "4 18 12 burgess-busterbrown.txt\n",
      "4 20 13 carroll-alice.txt\n",
      "5 20 12 chesterton-ball.txt\n",
      "5 23 11 chesterton-brown.txt\n",
      "5 18 11 chesterton-thursday.txt\n",
      "4 21 25 edgeworth-parents.txt\n",
      "5 26 15 melville-moby_dick.txt\n",
      "5 52 11 milton-paradise.txt\n",
      "4 12 9 shakespeare-caesar.txt\n",
      "4 12 8 shakespeare-hamlet.txt\n",
      "4 12 7 shakespeare-macbeth.txt\n",
      "5 36 12 whitman-leaves.txt\n"
     ]
    }
   ],
   "source": [
    "# average word length, average sentence length, 'lexical diversity score'\n",
    "\n",
    "for fileid in gutenberg.fileids():\n",
    "    num_chars = len(gutenberg.raw(fileid))\n",
    "    num_words = len(gutenberg.words(fileid))\n",
    "    num_sents = len(gutenberg.sents(fileid))\n",
    "    num_vocab = len(set(w.lower() for w in gutenberg.words(fileid)))\n",
    "    \n",
    "    print(round(num_chars/num_words), round(num_words/num_sents), round(num_words/num_vocab), fileid)"
   ]
  },
  {
   "cell_type": "code",
   "execution_count": 78,
   "metadata": {
    "tags": []
   },
   "outputs": [
    {
     "output_type": "stream",
     "name": "stdout",
     "text": "number of words in the longest sentence in 'austen-emma.txt' 274\n"
    },
    {
     "output_type": "execute_result",
     "data": {
      "text/plain": "\"While he lived , it must be only an engagement ; but she flattered herself , that if divested of the danger of drawing her away , it might become an increase of comfort to him .-- How to do her best by Harriet , was of more difficult decision ;-- how to spare her from any unnecessary pain ; how to make her any possible atonement ; how to appear least her enemy ?-- On these subjects , her perplexity and distress were very great -- and her mind had to pass again and again through every bitter reproach and sorrowful regret that had ever surrounded it .-- She could only resolve at last , that she would still avoid a meeting with her , and communicate all that need be told by letter ; that it would be inexpressibly desirable to have her removed just now for a time from Highbury , and -- indulging in one scheme more -- nearly resolve , that it might be practicable to get an invitation for her to Brunswick Square .-- Isabella had been pleased with Harriet ; and a few weeks spent in London must give her some amusement .-- She did not think it in Harriet ' s nature to escape being benefited by novelty and variety , by the streets , the shops , and the children .-- At any rate , it would be a proof of attention and kindness in herself , from whom every thing was due ; a separation for the present ; an averting of the evil day , when they must all be together again .\""
     },
     "metadata": {},
     "execution_count": 78
    }
   ],
   "source": [
    "sentences = gutenberg.sents(\"austen-emma.txt\")\n",
    "\n",
    "length_longest_sent = max(len(s) for s in sentences)\n",
    "print(\"number of words in the longest sentence in 'austen-emma.txt'\", length_longest_sent)\n",
    "\n",
    "longest_sent = [s for s in sentences if len(s) == length_longest_sent][0]\n",
    "\n",
    "' '.join(longest_sent)"
   ]
  },
  {
   "cell_type": "code",
   "execution_count": 42,
   "metadata": {},
   "outputs": [
    {
     "data": {
      "text/plain": [
       "['adventure',\n",
       " 'belles_lettres',\n",
       " 'editorial',\n",
       " 'fiction',\n",
       " 'government',\n",
       " 'hobbies',\n",
       " 'humor',\n",
       " 'learned',\n",
       " 'lore',\n",
       " 'mystery',\n",
       " 'news',\n",
       " 'religion',\n",
       " 'reviews',\n",
       " 'romance',\n",
       " 'science_fiction']"
      ]
     },
     "execution_count": 42,
     "metadata": {},
     "output_type": "execute_result"
    }
   ],
   "source": [
    "brown.categories()"
   ]
  },
  {
   "cell_type": "code",
   "execution_count": 45,
   "metadata": {},
   "outputs": [
    {
     "name": "stdout",
     "output_type": "stream",
     "text": [
      "                  can could   may might  must  will \n",
      "           news    93    86    66    38    50   389 \n",
      "       religion    82    59    78    12    54    71 \n",
      "        hobbies   268    58   131    22    83   264 \n",
      "science_fiction    16    49     4    12     8    16 \n",
      "        romance    74   193    11    51    45    43 \n",
      "          humor    16    30     8     8     9    13 \n"
     ]
    }
   ],
   "source": [
    "cfd = nltk.ConditionalFreqDist(\n",
    "    (genre, word)\n",
    "    for genre in brown.categories()\n",
    "    for word in brown.words(categories=genre)\n",
    ")\n",
    "genres = ['news', 'religion', 'hobbies', 'science_fiction', 'romance', 'humor']\n",
    "modals = ['can', 'could', 'may', 'might', 'must', 'will']\n",
    "\n",
    "cfd.tabulate(conditions=genres, samples=modals)"
   ]
  },
  {
   "cell_type": "code",
   "execution_count": 50,
   "metadata": {},
   "outputs": [
    {
     "data": {
      "image/png": "[encoded data removed]",
      "text/plain": [
       "<Figure size 432x288 with 1 Axes>"
      ]
     },
     "metadata": {
      "needs_background": "light"
     },
     "output_type": "display_data"
    },
    {
     "data": {
      "text/plain": [
       "<matplotlib.axes._subplots.AxesSubplot at 0x205163243c8>"
      ]
     },
     "execution_count": 50,
     "metadata": {},
     "output_type": "execute_result"
    }
   ],
   "source": [
    "cfd = nltk.ConditionalFreqDist(\n",
    "    (target, fileid[:4])\n",
    "    for fileid in inaugural.fileids()\n",
    "    for w in inaugural.words(fileid)\n",
    "    for target in ['america', 'citizen']\n",
    "    if w.lower().startswith(target)\n",
    ")\n",
    "\n",
    "cfd.plot()"
   ]
  },
  {
   "cell_type": "code",
   "execution_count": 51,
   "metadata": {},
   "outputs": [
    {
     "data": {
      "image/png": "[encoded data removed]",
      "text/plain": [
       "<Figure size 432x288 with 1 Axes>"
      ]
     },
     "metadata": {
      "needs_background": "light"
     },
     "output_type": "display_data"
    },
    {
     "data": {
      "text/plain": [
       "<matplotlib.axes._subplots.AxesSubplot at 0x2051633e978>"
      ]
     },
     "execution_count": 51,
     "metadata": {},
     "output_type": "execute_result"
    }
   ],
   "source": [
    "names = nltk.corpus.names\n",
    "\n",
    "cfd = nltk.ConditionalFreqDist(\n",
    "    (fileid, name[-1])\n",
    "    for fileid in names.fileids()\n",
    "    for name in names.words(fileid)\n",
    ")\n",
    "\n",
    "cfd.plot()"
   ]
  },
  {
   "cell_type": "code",
   "execution_count": 9,
   "metadata": {
    "tags": []
   },
   "outputs": [
    {
     "output_type": "stream",
     "name": "stdout",
     "text": "[Synset('cunning.s.01'), Synset('cute.s.02')]\n[['cunning', 'cute'], ['cute', 'precious']]\n"
    }
   ],
   "source": [
    "print(wn.synsets('cute'))\n",
    "print([l.lemma_names() for l in wn.synsets('cute')])"
   ]
  },
  {
   "cell_type": "code",
   "execution_count": 11,
   "metadata": {
    "tags": []
   },
   "outputs": [
    {
     "output_type": "stream",
     "name": "stdout",
     "text": "['attractive especially by means of smallness or prettiness or quaintness', 'obviously contrived to charm']\n"
    }
   ],
   "source": [
    "print([l.definition() for l in wn.synsets('cute')])"
   ]
  },
  {
   "cell_type": "code",
   "execution_count": 12,
   "metadata": {
    "tags": []
   },
   "outputs": [
    {
     "output_type": "stream",
     "name": "stdout",
     "text": "[['a cute kid with pigtails', 'a cute little apartment', 'cunning kittens', 'a cunning baby'], ['an insufferably precious performance', 'a child with intolerably cute mannerisms']]\n"
    }
   ],
   "source": [
    "print([l.examples() for l in wn.synsets('cute')])"
   ]
  },
  {
   "cell_type": "code",
   "execution_count": 15,
   "metadata": {},
   "outputs": [],
   "source": [
    "# doesn't work in the notebook but works in a python console\n",
    "# nltk.app.wordnet()"
   ]
  },
  {
   "cell_type": "code",
   "execution_count": 26,
   "metadata": {
    "tags": []
   },
   "outputs": [
    {
     "output_type": "execute_result",
     "data": {
      "text/plain": "Synset('king.n.10')"
     },
     "metadata": {},
     "execution_count": 26
    }
   ],
   "source": [
    "chess_king = [l for l in wn.synsets('king') if \"chess\" in l.definition()][0]\n",
    "\n",
    "chess_king"
   ]
  },
  {
   "cell_type": "code",
   "execution_count": 74,
   "metadata": {
    "tags": []
   },
   "outputs": [
    {
     "output_type": "stream",
     "name": "stdout",
     "text": "name:  king.n.10\nlemma_names:  ['king']\ndefinition:  (chess) the weakest but the most important piece\nexamples:  []\nhyponyms:  []\n\nhyponyms:  {(Synset('entity.n.01'), 10), (Synset('king.n.10'), 0), (Synset('object.n.01'), 8), (Synset('equipment.n.01'), 4), (Synset('instrumentality.n.03'), 5), (Synset('game_equipment.n.01'), 3), (Synset('chessman.n.01'), 1), (Synset('physical_entity.n.01'), 9), (Synset('whole.n.02'), 7), (Synset('artifact.n.01'), 6), (Synset('man.n.10'), 2)}\n\nattributes:  []\nalso_sees:  []\ncauses:  []\ntopic_domains:  [Synset('chess.n.02')]\nusage_domains:  []\nverb_groups:  []\noffset:  3618101\nroot_hypernyms:  [Synset('entity.n.01')]\nlexname:  noun.artifact\npos:  n\nframe_ids:  []\nalso_sees:  []\n\npart_meronyms:  []\nsubstance_meronyms:  []\nmember_meronyms:  []\npart_holonyms:  []\nsubstance_holonyms:  []\nmember_holonyms:  []\n"
    }
   ],
   "source": [
    "print(\"name: \", chess_king.name())\n",
    "print(\"lemma_names: \", chess_king.lemma_names())\n",
    "print(\"definition: \", chess_king.definition())\n",
    "print(\"examples: \", chess_king.examples())\n",
    "print(\"hyponyms: \", chess_king.hyponyms())\n",
    "print()\n",
    "print(\"hyponyms: \", chess_king.hypernym_distances())\n",
    "print()\n",
    "print(\"attributes: \", chess_king.attributes())\n",
    "print(\"also_sees: \", chess_king.also_sees())\n",
    "print(\"causes: \", chess_king.causes())\n",
    "print(\"topic_domains: \", chess_king.topic_domains())\n",
    "print(\"usage_domains: \", chess_king.usage_domains())\n",
    "print(\"verb_groups: \", chess_king.verb_groups())\n",
    "print(\"offset: \", chess_king.offset())\n",
    "print(\"root_hypernyms: \", chess_king.root_hypernyms())\n",
    "print(\"lexname: \", chess_king.lexname())\n",
    "print(\"pos: \", chess_king.pos())\n",
    "print(\"frame_ids: \", chess_king.frame_ids())\n",
    "print(\"also_sees: \", chess_king.also_sees())\n",
    "print()\n",
    "print(\"part_meronyms: \", chess_king.part_meronyms())\n",
    "print(\"substance_meronyms: \", chess_king.substance_meronyms())\n",
    "print(\"member_meronyms: \", chess_king.member_meronyms())\n",
    "print(\"part_holonyms: \", chess_king.part_holonyms())\n",
    "print(\"substance_holonyms: \", chess_king.substance_holonyms())\n",
    "print(\"member_holonyms: \", chess_king.member_holonyms())"
   ]
  },
  {
   "cell_type": "code",
   "execution_count": 75,
   "metadata": {
    "tags": []
   },
   "outputs": [
    {
     "output_type": "stream",
     "name": "stdout",
     "text": "name:  car.n.01\nlemma_names:  ['car', 'auto', 'automobile', 'machine', 'motorcar']\ndefinition:  a motor vehicle with four wheels; usually propelled by an internal combustion engine\nexamples:  ['he needs a car to get to work']\n\nhyponyms:  [Synset('ambulance.n.01'), Synset('beach_wagon.n.01'), Synset('bus.n.04'), Synset('cab.n.03'), Synset('compact.n.03'), Synset('convertible.n.01'), Synset('coupe.n.01'), Synset('cruiser.n.01'), Synset('electric.n.01'), Synset('gas_guzzler.n.01'), Synset('hardtop.n.01'), Synset('hatchback.n.01'), Synset('horseless_carriage.n.01'), Synset('hot_rod.n.01'), Synset('jeep.n.01'), Synset('limousine.n.01'), Synset('loaner.n.02'), Synset('minicar.n.01'), Synset('minivan.n.01'), Synset('model_t.n.01'), Synset('pace_car.n.01'), Synset('racer.n.02'), Synset('roadster.n.01'), Synset('sedan.n.01'), Synset('sport_utility.n.01'), Synset('sports_car.n.01'), Synset('stanley_steamer.n.01'), Synset('stock_car.n.01'), Synset('subcompact.n.01'), Synset('touring_car.n.01'), Synset('used-car.n.01')]\n\nhyponyms:  {(Synset('container.n.01'), 4), (Synset('entity.n.01'), 10), (Synset('wheeled_vehicle.n.01'), 3), (Synset('object.n.01'), 8), (Synset('car.n.01'), 0), (Synset('whole.n.02'), 8), (Synset('instrumentality.n.03'), 6), (Synset('conveyance.n.03'), 5), (Synset('physical_entity.n.01'), 9), (Synset('artifact.n.01'), 6), (Synset('self-propelled_vehicle.n.01'), 2), (Synset('entity.n.01'), 11), (Synset('vehicle.n.01'), 4), (Synset('object.n.01'), 9), (Synset('artifact.n.01'), 7), (Synset('motor_vehicle.n.01'), 1), (Synset('instrumentality.n.03'), 5), (Synset('physical_entity.n.01'), 10), (Synset('whole.n.02'), 7)}\n\nattributes:  []\nalso_sees:  []\ncauses:  []\ntopic_domains:  []\nusage_domains:  []\nverb_groups:  []\noffset:  2958343\nroot_hypernyms:  [Synset('entity.n.01')]\nlexname:  noun.artifact\npos:  n\nframe_ids:  []\nalso_sees:  []\n\npart_meronyms:  []\nsubstance_meronyms:  []\nmember_meronyms:  []\npart_holonyms:  []\nsubstance_holonyms:  []\nmember_holonyms:  []\n"
    }
   ],
   "source": [
    "car = wn.synsets(\"car\")[0]\n",
    "\n",
    "print(\"name: \", car.name())\n",
    "print(\"lemma_names: \", car.lemma_names())\n",
    "print(\"definition: \", car.definition())\n",
    "print(\"examples: \", car.examples())\n",
    "print()\n",
    "print(\"hyponyms: \", car.hyponyms())\n",
    "print()\n",
    "print(\"hyponyms: \", car.hypernym_distances())\n",
    "print()\n",
    "print(\"attributes: \", car.attributes())\n",
    "print(\"also_sees: \", car.also_sees())\n",
    "print(\"causes: \", car.causes())\n",
    "print(\"topic_domains: \", car.topic_domains())\n",
    "print(\"usage_domains: \", car.usage_domains())\n",
    "print(\"verb_groups: \", car.verb_groups())\n",
    "print(\"offset: \", car.offset())\n",
    "print(\"root_hypernyms: \", car.root_hypernyms())\n",
    "print(\"lexname: \", car.lexname())\n",
    "print(\"pos: \", car.pos())\n",
    "print(\"frame_ids: \", car.frame_ids())\n",
    "print(\"also_sees: \", car.also_sees())\n",
    "print()\n",
    "print(\"part_meronyms: \", chess_king.part_meronyms())\n",
    "print(\"substance_meronyms: \", chess_king.substance_meronyms())\n",
    "print(\"member_meronyms: \", chess_king.member_meronyms())\n",
    "print(\"part_holonyms: \", chess_king.part_holonyms())\n",
    "print(\"substance_holonyms: \", chess_king.substance_holonyms())\n",
    "print(\"member_holonyms: \", chess_king.member_holonyms())"
   ]
  },
  {
   "cell_type": "code",
   "execution_count": 71,
   "metadata": {},
   "outputs": [
    {
     "output_type": "execute_result",
     "data": {
      "text/plain": "'that which is perceived or known or inferred to have its own distinct existence (living or nonliving)'"
     },
     "metadata": {},
     "execution_count": 71
    }
   ],
   "source": [
    "wn.synsets(\"entity\")[0].definition()"
   ]
  },
  {
   "cell_type": "markdown",
   "metadata": {},
   "source": [
    "## Exercises"
   ]
  },
  {
   "cell_type": "markdown",
   "metadata": {},
   "source": [
    "1. Create a variable phrase containing a list of words. Review the operations described in the previous chapter, including addition, multiplication, indexing, slicing, and sorting.\n",
    "\n",
    "2. Use the corpus module to explore austen-persuasion.txt. How many word tokens does this book have? How many word types?\n",
    "\n",
    "3. Use the Brown corpus reader `nltk.corpus.brown.words()` or the Web text corpus reader `nltk.corpus.webtext.words()` to access some sample text in two different genres."
   ]
  },
  {
   "cell_type": "code",
   "execution_count": 77,
   "metadata": {
    "tags": []
   },
   "outputs": [
    {
     "output_type": "stream",
     "name": "stdout",
     "text": "['hello', 'my', 'name', 'is', 'Grégoire', '!']\n['hello', 'my', 'name', 'is', 'Grégoire', '!', '!']\nis\n['name', 'is', 'Grégoire']\n['Grégoire', 'hello', 'is', 'my', 'name']\n"
    }
   ],
   "source": [
    "# 1.\n",
    "words_list = [\"hello\", \"my\", \"name\", \"is\", \"Grégoire\"]\n",
    "\n",
    "print(words_list + [\"!\"])\n",
    "print(words_list + [\"!\"] * 2)\n",
    "print(words_list[3])\n",
    "print(words_list[2:])\n",
    "print(sorted(words_list))"
   ]
  },
  {
   "cell_type": "code",
   "execution_count": 84,
   "metadata": {},
   "outputs": [
    {
     "output_type": "execute_result",
     "data": {
      "text/plain": "(192484, 7806)"
     },
     "metadata": {},
     "execution_count": 84
    }
   ],
   "source": [
    "# 2.\n",
    "num_words = sum(len(sent) for sent in sentences)\n",
    "num_word_types = len(set(\n",
    "    word for sent in sentences\n",
    "    for word in sent\n",
    "))\n",
    "\n",
    "num_words, num_word_types"
   ]
  },
  {
   "cell_type": "code",
   "execution_count": null,
   "metadata": {},
   "outputs": [],
   "source": [
    "# 3.\n"
   ]
  },
  {
   "cell_type": "markdown",
   "metadata": {},
   "source": [
    "4. Read in the texts of the State of the Union addresses, using the state_union corpus reader. Count occurrences of men, women, and people in each document. What has happened to the usage of these words over time?\n",
    "\n",
    "5. Investigate the holonym-meronym relations for some nouns. Remember that there are three kinds of holonym-meronym relation, so you need to use: member_meronyms(), part_meronyms(), substance_meronyms(), member_holonyms(), part_holonyms(), and substance_holonyms().\n",
    "\n",
    "6. In the discussion of comparative wordlists, we created an object called translate which you could look up using words in both German and Spanish in order to get corresponding words in English. What problem might arise with this approach? Can you suggest a way to avoid this problem?"
   ]
  }
 ],
 "metadata": {
  "kernelspec": {
   "display_name": "Python 3",
   "language": "python",
   "name": "python3"
  },
  "language_info": {
   "codemirror_mode": {
    "name": "ipython",
    "version": 3
   },
   "file_extension": ".py",
   "mimetype": "text/x-python",
   "name": "python",
   "nbconvert_exporter": "python",
   "pygments_lexer": "ipython3",
   "version": "3.7.3-final"
  }
 },
 "nbformat": 4,
 "nbformat_minor": 4
}